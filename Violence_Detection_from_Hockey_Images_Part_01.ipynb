{
  "nbformat": 4,
  "nbformat_minor": 0,
  "metadata": {
    "colab": {
      "provenance": [],
      "gpuType": "T4",
      "include_colab_link": true
    },
    "kernelspec": {
      "name": "python3",
      "display_name": "Python 3"
    },
    "language_info": {
      "name": "python"
    },
    "accelerator": "GPU"
  },
  "cells": [
    {
      "cell_type": "markdown",
      "metadata": {
        "id": "view-in-github",
        "colab_type": "text"
      },
      "source": [
        "<a href=\"https://colab.research.google.com/github/shahriariit/Violence_Videos_Detection/blob/main/Violence_Detection_from_Hockey_Images_Part_01.ipynb\" target=\"_parent\"><img src=\"https://colab.research.google.com/assets/colab-badge.svg\" alt=\"Open In Colab\"/></a>"
      ]
    },
    {
      "cell_type": "code",
      "execution_count": null,
      "metadata": {
        "colab": {
          "base_uri": "https://localhost:8080/"
        },
        "id": "C2b65RJ99bFs",
        "outputId": "784df53a-4db3-4f12-d63a-71755b11993c"
      },
      "outputs": [
        {
          "output_type": "stream",
          "name": "stdout",
          "text": [
            "Requirement already satisfied: opencv-python in /usr/local/lib/python3.11/dist-packages (4.11.0.86)\n",
            "Requirement already satisfied: numpy>=1.21.2 in /usr/local/lib/python3.11/dist-packages (from opencv-python) (2.0.2)\n",
            "Requirement already satisfied: tensorflow in /usr/local/lib/python3.11/dist-packages (2.18.0)\n",
            "Requirement already satisfied: absl-py>=1.0.0 in /usr/local/lib/python3.11/dist-packages (from tensorflow) (1.4.0)\n",
            "Requirement already satisfied: astunparse>=1.6.0 in /usr/local/lib/python3.11/dist-packages (from tensorflow) (1.6.3)\n",
            "Requirement already satisfied: flatbuffers>=24.3.25 in /usr/local/lib/python3.11/dist-packages (from tensorflow) (25.2.10)\n",
            "Requirement already satisfied: gast!=0.5.0,!=0.5.1,!=0.5.2,>=0.2.1 in /usr/local/lib/python3.11/dist-packages (from tensorflow) (0.6.0)\n",
            "Requirement already satisfied: google-pasta>=0.1.1 in /usr/local/lib/python3.11/dist-packages (from tensorflow) (0.2.0)\n",
            "Requirement already satisfied: libclang>=13.0.0 in /usr/local/lib/python3.11/dist-packages (from tensorflow) (18.1.1)\n",
            "Requirement already satisfied: opt-einsum>=2.3.2 in /usr/local/lib/python3.11/dist-packages (from tensorflow) (3.4.0)\n",
            "Requirement already satisfied: packaging in /usr/local/lib/python3.11/dist-packages (from tensorflow) (24.2)\n",
            "Requirement already satisfied: protobuf!=4.21.0,!=4.21.1,!=4.21.2,!=4.21.3,!=4.21.4,!=4.21.5,<6.0.0dev,>=3.20.3 in /usr/local/lib/python3.11/dist-packages (from tensorflow) (5.29.4)\n",
            "Requirement already satisfied: requests<3,>=2.21.0 in /usr/local/lib/python3.11/dist-packages (from tensorflow) (2.32.3)\n",
            "Requirement already satisfied: setuptools in /usr/local/lib/python3.11/dist-packages (from tensorflow) (75.2.0)\n",
            "Requirement already satisfied: six>=1.12.0 in /usr/local/lib/python3.11/dist-packages (from tensorflow) (1.17.0)\n",
            "Requirement already satisfied: termcolor>=1.1.0 in /usr/local/lib/python3.11/dist-packages (from tensorflow) (3.1.0)\n",
            "Requirement already satisfied: typing-extensions>=3.6.6 in /usr/local/lib/python3.11/dist-packages (from tensorflow) (4.13.2)\n",
            "Requirement already satisfied: wrapt>=1.11.0 in /usr/local/lib/python3.11/dist-packages (from tensorflow) (1.17.2)\n",
            "Requirement already satisfied: grpcio<2.0,>=1.24.3 in /usr/local/lib/python3.11/dist-packages (from tensorflow) (1.71.0)\n",
            "Requirement already satisfied: tensorboard<2.19,>=2.18 in /usr/local/lib/python3.11/dist-packages (from tensorflow) (2.18.0)\n",
            "Requirement already satisfied: keras>=3.5.0 in /usr/local/lib/python3.11/dist-packages (from tensorflow) (3.8.0)\n",
            "Requirement already satisfied: numpy<2.1.0,>=1.26.0 in /usr/local/lib/python3.11/dist-packages (from tensorflow) (2.0.2)\n",
            "Requirement already satisfied: h5py>=3.11.0 in /usr/local/lib/python3.11/dist-packages (from tensorflow) (3.13.0)\n",
            "Requirement already satisfied: ml-dtypes<0.5.0,>=0.4.0 in /usr/local/lib/python3.11/dist-packages (from tensorflow) (0.4.1)\n",
            "Requirement already satisfied: tensorflow-io-gcs-filesystem>=0.23.1 in /usr/local/lib/python3.11/dist-packages (from tensorflow) (0.37.1)\n",
            "Requirement already satisfied: wheel<1.0,>=0.23.0 in /usr/local/lib/python3.11/dist-packages (from astunparse>=1.6.0->tensorflow) (0.45.1)\n",
            "Requirement already satisfied: rich in /usr/local/lib/python3.11/dist-packages (from keras>=3.5.0->tensorflow) (13.9.4)\n",
            "Requirement already satisfied: namex in /usr/local/lib/python3.11/dist-packages (from keras>=3.5.0->tensorflow) (0.0.9)\n",
            "Requirement already satisfied: optree in /usr/local/lib/python3.11/dist-packages (from keras>=3.5.0->tensorflow) (0.15.0)\n",
            "Requirement already satisfied: charset-normalizer<4,>=2 in /usr/local/lib/python3.11/dist-packages (from requests<3,>=2.21.0->tensorflow) (3.4.2)\n",
            "Requirement already satisfied: idna<4,>=2.5 in /usr/local/lib/python3.11/dist-packages (from requests<3,>=2.21.0->tensorflow) (3.10)\n",
            "Requirement already satisfied: urllib3<3,>=1.21.1 in /usr/local/lib/python3.11/dist-packages (from requests<3,>=2.21.0->tensorflow) (2.4.0)\n",
            "Requirement already satisfied: certifi>=2017.4.17 in /usr/local/lib/python3.11/dist-packages (from requests<3,>=2.21.0->tensorflow) (2025.4.26)\n",
            "Requirement already satisfied: markdown>=2.6.8 in /usr/local/lib/python3.11/dist-packages (from tensorboard<2.19,>=2.18->tensorflow) (3.8)\n",
            "Requirement already satisfied: tensorboard-data-server<0.8.0,>=0.7.0 in /usr/local/lib/python3.11/dist-packages (from tensorboard<2.19,>=2.18->tensorflow) (0.7.2)\n",
            "Requirement already satisfied: werkzeug>=1.0.1 in /usr/local/lib/python3.11/dist-packages (from tensorboard<2.19,>=2.18->tensorflow) (3.1.3)\n",
            "Requirement already satisfied: MarkupSafe>=2.1.1 in /usr/local/lib/python3.11/dist-packages (from werkzeug>=1.0.1->tensorboard<2.19,>=2.18->tensorflow) (3.0.2)\n",
            "Requirement already satisfied: markdown-it-py>=2.2.0 in /usr/local/lib/python3.11/dist-packages (from rich->keras>=3.5.0->tensorflow) (3.0.0)\n",
            "Requirement already satisfied: pygments<3.0.0,>=2.13.0 in /usr/local/lib/python3.11/dist-packages (from rich->keras>=3.5.0->tensorflow) (2.19.1)\n",
            "Requirement already satisfied: mdurl~=0.1 in /usr/local/lib/python3.11/dist-packages (from markdown-it-py>=2.2.0->rich->keras>=3.5.0->tensorflow) (0.1.2)\n",
            "Requirement already satisfied: moviepy in /usr/local/lib/python3.11/dist-packages (1.0.3)\n",
            "Requirement already satisfied: decorator<5.0,>=4.0.2 in /usr/local/lib/python3.11/dist-packages (from moviepy) (4.4.2)\n",
            "Requirement already satisfied: tqdm<5.0,>=4.11.2 in /usr/local/lib/python3.11/dist-packages (from moviepy) (4.67.1)\n",
            "Requirement already satisfied: requests<3.0,>=2.8.1 in /usr/local/lib/python3.11/dist-packages (from moviepy) (2.32.3)\n",
            "Requirement already satisfied: proglog<=1.0.0 in /usr/local/lib/python3.11/dist-packages (from moviepy) (0.1.12)\n",
            "Requirement already satisfied: numpy>=1.17.3 in /usr/local/lib/python3.11/dist-packages (from moviepy) (2.0.2)\n",
            "Requirement already satisfied: imageio<3.0,>=2.5 in /usr/local/lib/python3.11/dist-packages (from moviepy) (2.37.0)\n",
            "Requirement already satisfied: imageio-ffmpeg>=0.2.0 in /usr/local/lib/python3.11/dist-packages (from moviepy) (0.6.0)\n",
            "Requirement already satisfied: pillow>=8.3.2 in /usr/local/lib/python3.11/dist-packages (from imageio<3.0,>=2.5->moviepy) (11.2.1)\n",
            "Requirement already satisfied: charset-normalizer<4,>=2 in /usr/local/lib/python3.11/dist-packages (from requests<3.0,>=2.8.1->moviepy) (3.4.2)\n",
            "Requirement already satisfied: idna<4,>=2.5 in /usr/local/lib/python3.11/dist-packages (from requests<3.0,>=2.8.1->moviepy) (3.10)\n",
            "Requirement already satisfied: urllib3<3,>=1.21.1 in /usr/local/lib/python3.11/dist-packages (from requests<3.0,>=2.8.1->moviepy) (2.4.0)\n",
            "Requirement already satisfied: certifi>=2017.4.17 in /usr/local/lib/python3.11/dist-packages (from requests<3.0,>=2.8.1->moviepy) (2025.4.26)\n"
          ]
        }
      ],
      "source": [
        "!pip install opencv-python\n",
        "!pip install tensorflow\n",
        "!pip install moviepy"
      ]
    },
    {
      "cell_type": "code",
      "source": [
        "from google.colab import drive\n",
        "import cv2\n",
        "import os\n",
        "import math\n",
        "import matplotlib.pyplot as plt\n",
        "import numpy as np\n",
        "from tensorflow.keras.preprocessing import image\n",
        "from tensorflow.keras.utils import to_categorical\n",
        "from tensorflow.keras.preprocessing.image import img_to_array, load_img\n",
        "from sklearn.utils import shuffle\n",
        "from tensorflow.keras.models import Sequential\n",
        "from tensorflow.keras.layers import Conv2D, MaxPooling2D, Flatten, Dense, Dropout\n",
        "from sklearn.model_selection import train_test_split\n",
        "from tensorflow.keras.layers import LSTM\n",
        "from tensorflow.keras.applications import MobileNetV3Large\n",
        "from tensorflow.keras.applications import VGG16\n",
        "from tensorflow.keras.applications import VGG19\n",
        "from tensorflow.keras.applications import ResNet50V2\n",
        "from tensorflow.keras.applications import InceptionV3\n",
        "from tensorflow.keras.applications import InceptionResNetV2\n",
        "from tensorflow.keras.applications import DenseNet121\n",
        "from tensorflow.keras.applications import DenseNet169\n",
        "from tensorflow.keras.applications import DenseNet201\n",
        "from tensorflow.keras.applications import Xception\n",
        "from tensorflow.keras.models import Model\n",
        "from tensorflow.keras.applications import Xception\n",
        "from tensorflow.keras.applications import InceptionV3\n",
        "from tensorflow.keras.layers import BatchNormalization\n",
        "from tensorflow.keras.layers import GlobalAveragePooling2D\n",
        "from tensorflow.keras.optimizers import Adam\n",
        "from sklearn.metrics import classification_report, accuracy_score, cohen_kappa_score, precision_score, recall_score, f1_score, roc_auc_score, matthews_corrcoef\n",
        "from imblearn.metrics import geometric_mean_score\n",
        "from imblearn.metrics import sensitivity_score\n",
        "from imblearn.metrics import specificity_score"
      ],
      "metadata": {
        "id": "4Qn8x-K_-lbX"
      },
      "execution_count": null,
      "outputs": []
    },
    {
      "cell_type": "code",
      "source": [
        "drive.mount('/content/drive')\n",
        "dataset_path = '/content/drive/MyDrive/HDataset'"
      ],
      "metadata": {
        "colab": {
          "base_uri": "https://localhost:8080/"
        },
        "id": "Oob_EB2I-vpr",
        "outputId": "d116cd48-db24-40f6-ac7a-57a95ac31845"
      },
      "execution_count": null,
      "outputs": [
        {
          "output_type": "stream",
          "name": "stdout",
          "text": [
            "Mounted at /content/drive\n"
          ]
        }
      ]
    },
    {
      "source": [
        "from google.colab import drive\n",
        "import cv2\n",
        "import os\n",
        "import math\n",
        "import matplotlib.pyplot as plt\n",
        "import numpy as np\n",
        "from tensorflow.keras.preprocessing import image\n",
        "from tensorflow.keras.utils import to_categorical\n",
        "from tensorflow.keras.preprocessing.image import img_to_array, load_img\n",
        "from sklearn.utils import shuffle\n",
        "from tensorflow.keras.models import Sequential\n",
        "from tensorflow.keras.layers import Conv2D, MaxPooling2D, Flatten, Dense, Dropout\n",
        "from sklearn.model_selection import train_test_split\n",
        "from tensorflow.keras.layers import LSTM\n",
        "from tensorflow.keras.applications import MobileNetV3Large\n",
        "from tensorflow.keras.applications import VGG16\n",
        "from tensorflow.keras.applications import VGG19\n",
        "from tensorflow.keras.applications import ResNet50V2\n",
        "from tensorflow.keras.applications import InceptionV3\n",
        "from tensorflow.keras.applications import InceptionResNetV2\n",
        "from tensorflow.keras.applications import DenseNet121\n",
        "from tensorflow.keras.applications import DenseNet169\n",
        "from tensorflow.keras.applications import DenseNet201\n",
        "from tensorflow.keras.applications import Xception\n",
        "from tensorflow.keras.models import Model\n",
        "from tensorflow.keras.applications import Xception\n",
        "from tensorflow.keras.applications import InceptionV3\n",
        "from tensorflow.keras.layers import BatchNormalization\n",
        "from tensorflow.keras.layers import GlobalAveragePooling2D\n",
        "from tensorflow.keras.optimizers import Adam\n",
        "from sklearn.metrics import classification_report, accuracy_score, cohen_kappa_score, precision_score, recall_score, f1_score, roc_auc_score, matthews_corrcoef\n",
        "from imblearn.metrics import geometric_mean_score\n",
        "from imblearn.metrics import sensitivity_score\n",
        "from imblearn.metrics import specificity_score\n",
        "import csv # Import the csv module\n",
        "\n",
        "def load_images_from_folder(folder, label):\n",
        "    \"\"\"Load images from a folder, preprocess, and assign labels.\"\"\"\n",
        "    images = []\n",
        "    labels = []\n",
        "    for filename in os.listdir(folder):\n",
        "        img_path = os.path.join(folder, filename)\n",
        "        # Load and preprocess image\n",
        "        img = load_img(img_path, target_size=(224, 224))  # Resize image to 224x224\n",
        "        img = img_to_array(img) / 255.0  # Normalize to [0, 1]\n",
        "        images.append(img)\n",
        "        labels.append(label)\n",
        "    return np.array(images), np.array(labels)\n",
        "\n",
        "\n",
        "def build_transfer_learning_model(base_model_fn, input_shape=(224, 224, 3), learning_rate=0.001):\n",
        "    \"\"\"\n",
        "    Builds a binary classification model using a specified base model function.\n",
        "\n",
        "    Parameters:\n",
        "    - base_model_fn: a function from keras.applications (e.g., VGG16, ResNet50V2)\n",
        "    - input_shape: input shape of the images\n",
        "    - learning_rate: learning rate for the optimizer\n",
        "\n",
        "    Returns:\n",
        "    - Compiled Keras Model\n",
        "    \"\"\"\n",
        "    # Load the base model without the top classification layer\n",
        "    base_model = base_model_fn(weights='imagenet', include_top=False, input_shape=input_shape)\n",
        "\n",
        "    # Freeze base model layers\n",
        "    for layer in base_model.layers:\n",
        "        layer.trainable = False\n",
        "\n",
        "    # Add custom classification head\n",
        "    x = base_model.output\n",
        "    x = GlobalAveragePooling2D()(x)\n",
        "    x = Dense(1024, activation='relu')(x)\n",
        "    x = Dropout(0.5)(x)\n",
        "    predictions = Dense(1, activation='sigmoid')(x)\n",
        "\n",
        "    # Final model\n",
        "    model = Model(inputs=base_model.input, outputs=predictions)\n",
        "\n",
        "    # Compile model\n",
        "    model.compile(optimizer=Adam(learning_rate=learning_rate),\n",
        "                  loss='binary_crossentropy',\n",
        "                  metrics=['accuracy'])\n",
        "\n",
        "    return model\n",
        "\n",
        "def evaluate(base_model, X_test, y_test, output_file=\"classification_metrics.csv\"):\n",
        "    # Predict probabilities\n",
        "\n",
        "    with open(output_file, mode='w', newline='') as file:\n",
        "        writer = csv.writer(file)\n",
        "\n",
        "        # Write the header row\n",
        "        writer.writerow([\"Accuracy\", \"Cohen-Kappa\", \"Precision\", \"Recall\", \"F1-Score\", \"AUROC\", \"MCC\", \"Specificity\", \"G-Mean\", \"Type I Error\",\"Type II Error\"])\n",
        "\n",
        "        y_probs = base_model.predict(X_test)\n",
        "        y_pred = (y_probs > 0.5).astype(int).flatten()\n",
        "\n",
        "        # Classification Report (includes precision, recall, F1-score)\n",
        "        print(\"Classification Report:\\n\", classification_report(y_test, y_pred))\n",
        "\n",
        "        # Individual Metrics\n",
        "        accuracy = accuracy_score(y_test, y_pred)\n",
        "        cohen_kappa = cohen_kappa_score(y_test, y_pred)\n",
        "        precision = precision_score(y_test, y_pred, average='weighted')\n",
        "        recall = recall_score(y_test, y_pred, average='weighted')\n",
        "        f1 = f1_score(y_test, y_pred, average='weighted')\n",
        "        auroc = roc_auc_score(y_test, y_probs, average='weighted')\n",
        "        mcc = matthews_corrcoef(y_test, y_pred)\n",
        "        specificity = specificity_score(y_test, y_pred, average='weighted')\n",
        "        g_mean = geometric_mean_score(y_test, y_pred, average='weighted')\n",
        "        type_i_error = 1 - g_mean\n",
        "        type_ii_error = 1 - specificity\n",
        "\n",
        "\n",
        "        writer.writerow([accuracy, cohen_kappa, precision, recall, f1, auroc, mcc, specificity, g_mean, type_i_error, type_ii_error])\n",
        "\n",
        "        # Display results\n",
        "        print(\"Accuracy:\", accuracy)\n",
        "        print(\"Cohen's Kappa:\", cohen_kappa)\n",
        "        print(\"Precision:\", precision)\n",
        "        print(\"Recall:\", recall)\n",
        "        print(\"F1-Score:\", f1)\n",
        "        print(\"AUROC:\", auroc)\n",
        "        print(\"Matthews Correlation Coefficient (MCC):\", mcc)\n",
        "        print(\"Specificity\",specificity)\n",
        "        print(\"Geometric Mean\",g_mean)\n",
        "        print(\"Type I Error\",type_i_error)\n",
        "        print(\"Type II Error\",type_ii_error)"
      ],
      "cell_type": "code",
      "metadata": {
        "id": "jsdzM7Kl4IyC"
      },
      "execution_count": null,
      "outputs": []
    },
    {
      "cell_type": "code",
      "source": [
        "# Paths to the frames\n",
        "nonviolence_folder = '/content/drive/MyDrive/HDataset/Nofight'\n",
        "violence_folder = '/content/drive/MyDrive/HDataset/Fight'"
      ],
      "metadata": {
        "id": "UDo6thHZ_qd4"
      },
      "execution_count": null,
      "outputs": []
    },
    {
      "cell_type": "code",
      "source": [
        "# Load images and labels for each class\n",
        "violence_images, violence_labels = load_images_from_folder(violence_folder, 1)  # Label 1 for Violence\n",
        "nonviolence_images, nonviolence_labels = load_images_from_folder(nonviolence_folder, 0)  # Label 0 for Non-Violence\n",
        "\n",
        "# Combine the datasets\n",
        "X = np.concatenate((violence_images, nonviolence_images), axis=0)\n",
        "y = np.concatenate((violence_labels, nonviolence_labels), axis=0)\n",
        "\n",
        "# Shuffle the dataset\n",
        "X, y = shuffle(X, y, random_state=42)\n",
        "\n",
        "print(f\"Dataset loaded and shuffled.\")\n",
        "print(f\"Total samples: {len(y)}\")\n",
        "print(f\"Shape of X: {X.shape}, Shape of y: {y.shape}\")"
      ],
      "metadata": {
        "colab": {
          "base_uri": "https://localhost:8080/"
        },
        "id": "377RzlxDAARi",
        "outputId": "ca919948-4986-418c-cf35-887f8064ddbe"
      },
      "execution_count": null,
      "outputs": [
        {
          "output_type": "stream",
          "name": "stdout",
          "text": [
            "Dataset loaded and shuffled.\n",
            "Total samples: 2000\n",
            "Shape of X: (2000, 224, 224, 3), Shape of y: (2000,)\n"
          ]
        }
      ]
    },
    {
      "cell_type": "code",
      "source": [
        "# Split dataset into training and testin\n",
        "X_train, X_test, y_train, y_test = train_test_split(X, y, test_size=0.2, random_state=42)"
      ],
      "metadata": {
        "id": "oPsESuudAh_w"
      },
      "execution_count": null,
      "outputs": []
    },
    {
      "cell_type": "code",
      "source": [
        "model_vgg16 = build_transfer_learning_model(VGG16)\n",
        "model_vgg16.fit(X_train, y_train, validation_data=(X_test, y_test), epochs=6, batch_size=32)\n",
        "accuracy_vgg16 = model_vgg16.evaluate(X_test, y_test, verbose=0)[1]\n",
        "print(f\"Accuracy: {accuracy_vgg16}\")\n",
        "evaluate(model_vgg16, X_test, y_test,\"vgg16_classification.csv\")"
      ],
      "metadata": {
        "colab": {
          "base_uri": "https://localhost:8080/"
        },
        "id": "4_lu8hocAWZ0",
        "outputId": "8b0c99e9-d222-436c-84c8-289282b51577"
      },
      "execution_count": null,
      "outputs": [
        {
          "output_type": "stream",
          "name": "stdout",
          "text": [
            "Downloading data from https://storage.googleapis.com/tensorflow/keras-applications/vgg16/vgg16_weights_tf_dim_ordering_tf_kernels_notop.h5\n",
            "\u001b[1m58889256/58889256\u001b[0m \u001b[32m━━━━━━━━━━━━━━━━━━━━\u001b[0m\u001b[37m\u001b[0m \u001b[1m0s\u001b[0m 0us/step\n",
            "Epoch 1/6\n",
            "\u001b[1m50/50\u001b[0m \u001b[32m━━━━━━━━━━━━━━━━━━━━\u001b[0m\u001b[37m\u001b[0m \u001b[1m30s\u001b[0m 343ms/step - accuracy: 0.7094 - loss: 0.5612 - val_accuracy: 0.9150 - val_loss: 0.2690\n",
            "Epoch 2/6\n",
            "\u001b[1m50/50\u001b[0m \u001b[32m━━━━━━━━━━━━━━━━━━━━\u001b[0m\u001b[37m\u001b[0m \u001b[1m10s\u001b[0m 196ms/step - accuracy: 0.8994 - loss: 0.2808 - val_accuracy: 0.9100 - val_loss: 0.2469\n",
            "Epoch 3/6\n",
            "\u001b[1m50/50\u001b[0m \u001b[32m━━━━━━━━━━━━━━━━━━━━\u001b[0m\u001b[37m\u001b[0m \u001b[1m10s\u001b[0m 197ms/step - accuracy: 0.9143 - loss: 0.2598 - val_accuracy: 0.9325 - val_loss: 0.2395\n",
            "Epoch 4/6\n",
            "\u001b[1m50/50\u001b[0m \u001b[32m━━━━━━━━━━━━━━━━━━━━\u001b[0m\u001b[37m\u001b[0m \u001b[1m10s\u001b[0m 201ms/step - accuracy: 0.9168 - loss: 0.2464 - val_accuracy: 0.9225 - val_loss: 0.2147\n",
            "Epoch 5/6\n",
            "\u001b[1m50/50\u001b[0m \u001b[32m━━━━━━━━━━━━━━━━━━━━\u001b[0m\u001b[37m\u001b[0m \u001b[1m10s\u001b[0m 204ms/step - accuracy: 0.9313 - loss: 0.2005 - val_accuracy: 0.9375 - val_loss: 0.2108\n",
            "Epoch 6/6\n",
            "\u001b[1m50/50\u001b[0m \u001b[32m━━━━━━━━━━━━━━━━━━━━\u001b[0m\u001b[37m\u001b[0m \u001b[1m10s\u001b[0m 205ms/step - accuracy: 0.9249 - loss: 0.2134 - val_accuracy: 0.9300 - val_loss: 0.2173\n",
            "Accuracy: 0.9300000071525574\n",
            "\u001b[1m13/13\u001b[0m \u001b[32m━━━━━━━━━━━━━━━━━━━━\u001b[0m\u001b[37m\u001b[0m \u001b[1m3s\u001b[0m 224ms/step\n",
            "Classification Report:\n",
            "               precision    recall  f1-score   support\n",
            "\n",
            "           0       0.96      0.90      0.93       203\n",
            "           1       0.90      0.96      0.93       197\n",
            "\n",
            "    accuracy                           0.93       400\n",
            "   macro avg       0.93      0.93      0.93       400\n",
            "weighted avg       0.93      0.93      0.93       400\n",
            "\n",
            "Accuracy: 0.93\n",
            "Cohen's Kappa: 0.8600944362555275\n",
            "Precision: 0.9316142688945113\n",
            "Recall: 0.93\n",
            "F1-Score: 0.929968492910905\n",
            "AUROC: 0.9713935635517992\n",
            "Matthews Correlation Coefficient (MCC): 0.8616446996463054\n",
            "Specificity 0.9308686954564778\n",
            "Geometric Mean 0.9304342463465779\n",
            "Type I Error 0.0695657536534221\n",
            "Type II Error 0.06913130454352223\n"
          ]
        }
      ]
    },
    {
      "cell_type": "code",
      "source": [
        "model_vgg19 = build_transfer_learning_model(VGG19)\n",
        "model_vgg19.fit(X_train, y_train, validation_data=(X_test, y_test), epochs=6, batch_size=32)\n",
        "accuracy_vgg19 = model_vgg19.evaluate(X_test, y_test, verbose=0)[1]\n",
        "print(f\"Accuracy: {accuracy_vgg19}\")\n",
        "evaluate(model_vgg19, X_test, y_test,\"vgg19_classification.csv\")"
      ],
      "metadata": {
        "colab": {
          "base_uri": "https://localhost:8080/"
        },
        "id": "Vw-s3lVcAzmj",
        "outputId": "a47f93a3-829f-4893-f3d1-403643953da3"
      },
      "execution_count": null,
      "outputs": [
        {
          "output_type": "stream",
          "name": "stdout",
          "text": [
            "Downloading data from https://storage.googleapis.com/tensorflow/keras-applications/vgg19/vgg19_weights_tf_dim_ordering_tf_kernels_notop.h5\n",
            "\u001b[1m80134624/80134624\u001b[0m \u001b[32m━━━━━━━━━━━━━━━━━━━━\u001b[0m\u001b[37m\u001b[0m \u001b[1m0s\u001b[0m 0us/step\n",
            "Epoch 1/6\n",
            "\u001b[1m50/50\u001b[0m \u001b[32m━━━━━━━━━━━━━━━━━━━━\u001b[0m\u001b[37m\u001b[0m \u001b[1m23s\u001b[0m 327ms/step - accuracy: 0.7896 - loss: 0.4693 - val_accuracy: 0.9175 - val_loss: 0.2604\n",
            "Epoch 2/6\n",
            "\u001b[1m50/50\u001b[0m \u001b[32m━━━━━━━━━━━━━━━━━━━━\u001b[0m\u001b[37m\u001b[0m \u001b[1m17s\u001b[0m 311ms/step - accuracy: 0.9006 - loss: 0.2849 - val_accuracy: 0.9100 - val_loss: 0.2583\n",
            "Epoch 3/6\n",
            "\u001b[1m50/50\u001b[0m \u001b[32m━━━━━━━━━━━━━━━━━━━━\u001b[0m\u001b[37m\u001b[0m \u001b[1m13s\u001b[0m 265ms/step - accuracy: 0.9047 - loss: 0.2901 - val_accuracy: 0.9225 - val_loss: 0.2325\n",
            "Epoch 4/6\n",
            "\u001b[1m50/50\u001b[0m \u001b[32m━━━━━━━━━━━━━━━━━━━━\u001b[0m\u001b[37m\u001b[0m \u001b[1m23s\u001b[0m 315ms/step - accuracy: 0.9044 - loss: 0.2611 - val_accuracy: 0.9275 - val_loss: 0.2200\n",
            "Epoch 5/6\n",
            "\u001b[1m50/50\u001b[0m \u001b[32m━━━━━━━━━━━━━━━━━━━━\u001b[0m\u001b[37m\u001b[0m \u001b[1m21s\u001b[0m 321ms/step - accuracy: 0.9064 - loss: 0.2540 - val_accuracy: 0.9225 - val_loss: 0.2466\n",
            "Epoch 6/6\n",
            "\u001b[1m50/50\u001b[0m \u001b[32m━━━━━━━━━━━━━━━━━━━━\u001b[0m\u001b[37m\u001b[0m \u001b[1m18s\u001b[0m 276ms/step - accuracy: 0.9137 - loss: 0.2394 - val_accuracy: 0.9300 - val_loss: 0.2059\n",
            "Accuracy: 0.9300000071525574\n",
            "\u001b[1m13/13\u001b[0m \u001b[32m━━━━━━━━━━━━━━━━━━━━\u001b[0m\u001b[37m\u001b[0m \u001b[1m4s\u001b[0m 254ms/step\n",
            "Classification Report:\n",
            "               precision    recall  f1-score   support\n",
            "\n",
            "           0       0.95      0.91      0.93       203\n",
            "           1       0.91      0.95      0.93       197\n",
            "\n",
            "    accuracy                           0.93       400\n",
            "   macro avg       0.93      0.93      0.93       400\n",
            "weighted avg       0.93      0.93      0.93       400\n",
            "\n",
            "Accuracy: 0.93\n",
            "Cohen's Kappa: 0.86005248031988\n",
            "Precision: 0.9307304565353346\n",
            "Recall: 0.93\n",
            "F1-Score: 0.9299929998249956\n",
            "AUROC: 0.9729689180065515\n",
            "Matthews Correlation Coefficient (MCC): 0.8607408320757685\n",
            "Specificity 0.9305686279412868\n",
            "Geometric Mean 0.9302842705245514\n",
            "Type I Error 0.06971572947544857\n",
            "Type II Error 0.06943137205871319\n"
          ]
        }
      ]
    },
    {
      "cell_type": "code",
      "source": [
        "model_mobilenetv3 = build_transfer_learning_model(MobileNetV3Large)\n",
        "model_mobilenetv3.fit(X_train, y_train, validation_data=(X_test, y_test), epochs=6, batch_size=32)\n",
        "accuracy_mobilenetv3 = model_mobilenetv3.evaluate(X_test, y_test, verbose=0)[1]\n",
        "print(f\"Accuracy: {accuracy_mobilenetv3}\")\n",
        "evaluate(model_mobilenetv3, X_test, y_test,\"mobilenetv3_classification.csv\")"
      ],
      "metadata": {
        "colab": {
          "base_uri": "https://localhost:8080/"
        },
        "id": "dr89iSHlA702",
        "outputId": "9f2c5971-cc9f-4d87-a3e6-28f0b30c55fd"
      },
      "execution_count": null,
      "outputs": [
        {
          "output_type": "stream",
          "name": "stdout",
          "text": [
            "Downloading data from https://storage.googleapis.com/tensorflow/keras-applications/mobilenet_v3/weights_mobilenet_v3_large_224_1.0_float_no_top_v2.h5\n",
            "\u001b[1m12683000/12683000\u001b[0m \u001b[32m━━━━━━━━━━━━━━━━━━━━\u001b[0m\u001b[37m\u001b[0m \u001b[1m0s\u001b[0m 0us/step\n",
            "Epoch 1/6\n",
            "\u001b[1m50/50\u001b[0m \u001b[32m━━━━━━━━━━━━━━━━━━━━\u001b[0m\u001b[37m\u001b[0m \u001b[1m26s\u001b[0m 285ms/step - accuracy: 0.5783 - loss: 0.6999 - val_accuracy: 0.8125 - val_loss: 0.4866\n",
            "Epoch 2/6\n",
            "\u001b[1m50/50\u001b[0m \u001b[32m━━━━━━━━━━━━━━━━━━━━\u001b[0m\u001b[37m\u001b[0m \u001b[1m23s\u001b[0m 42ms/step - accuracy: 0.7816 - loss: 0.4994 - val_accuracy: 0.7875 - val_loss: 0.4527\n",
            "Epoch 3/6\n",
            "\u001b[1m50/50\u001b[0m \u001b[32m━━━━━━━━━━━━━━━━━━━━\u001b[0m\u001b[37m\u001b[0m \u001b[1m2s\u001b[0m 40ms/step - accuracy: 0.7816 - loss: 0.4731 - val_accuracy: 0.8375 - val_loss: 0.3845\n",
            "Epoch 4/6\n",
            "\u001b[1m50/50\u001b[0m \u001b[32m━━━━━━━━━━━━━━━━━━━━\u001b[0m\u001b[37m\u001b[0m \u001b[1m2s\u001b[0m 35ms/step - accuracy: 0.8177 - loss: 0.4197 - val_accuracy: 0.8575 - val_loss: 0.3474\n",
            "Epoch 5/6\n",
            "\u001b[1m50/50\u001b[0m \u001b[32m━━━━━━━━━━━━━━━━━━━━\u001b[0m\u001b[37m\u001b[0m \u001b[1m3s\u001b[0m 35ms/step - accuracy: 0.8301 - loss: 0.3911 - val_accuracy: 0.8625 - val_loss: 0.3452\n",
            "Epoch 6/6\n",
            "\u001b[1m50/50\u001b[0m \u001b[32m━━━━━━━━━━━━━━━━━━━━\u001b[0m\u001b[37m\u001b[0m \u001b[1m2s\u001b[0m 35ms/step - accuracy: 0.8428 - loss: 0.3788 - val_accuracy: 0.8725 - val_loss: 0.3199\n",
            "Accuracy: 0.8725000023841858\n",
            "\u001b[1m13/13\u001b[0m \u001b[32m━━━━━━━━━━━━━━━━━━━━\u001b[0m\u001b[37m\u001b[0m \u001b[1m10s\u001b[0m 387ms/step\n",
            "Classification Report:\n",
            "               precision    recall  f1-score   support\n",
            "\n",
            "           0       0.88      0.87      0.87       203\n",
            "           1       0.87      0.87      0.87       197\n",
            "\n",
            "    accuracy                           0.87       400\n",
            "   macro avg       0.87      0.87      0.87       400\n",
            "weighted avg       0.87      0.87      0.87       400\n",
            "\n",
            "Accuracy: 0.8725\n",
            "Cohen's Kappa: 0.7449617442616392\n",
            "Precision: 0.8725188768876887\n",
            "Recall: 0.8725\n",
            "F1-Score: 0.8725039849976559\n",
            "AUROC: 0.9430621889925234\n",
            "Matthews Correlation Coefficient (MCC): 0.7449710592523865\n",
            "Specificity 0.8725176289665174\n",
            "Geometric Mean 0.8725088144387347\n",
            "Type I Error 0.12749118556126526\n",
            "Type II Error 0.1274823710334826\n"
          ]
        }
      ]
    },
    {
      "cell_type": "code",
      "source": [
        "model_resnet50v2 = build_transfer_learning_model(ResNet50V2)\n",
        "model_resnet50v2.fit(X_train, y_train, validation_data=(X_test, y_test), epochs=6, batch_size=32)\n",
        "accuracy_resnet50v2 = model_resnet50v2.evaluate(X_test, y_test, verbose=0)[1]\n",
        "print(f\"Accuracy: {accuracy_resnet50v2}\")\n",
        "evaluate(model_resnet50v2, X_test, y_test,\"resnet50v2_classification.csv\")"
      ],
      "metadata": {
        "colab": {
          "base_uri": "https://localhost:8080/"
        },
        "id": "Mq2Ck08iBBZ5",
        "outputId": "bb050572-c407-49ac-b46c-3298640f9351"
      },
      "execution_count": null,
      "outputs": [
        {
          "output_type": "stream",
          "name": "stdout",
          "text": [
            "Downloading data from https://storage.googleapis.com/tensorflow/keras-applications/resnet/resnet50v2_weights_tf_dim_ordering_tf_kernels_notop.h5\n",
            "\u001b[1m94668760/94668760\u001b[0m \u001b[32m━━━━━━━━━━━━━━━━━━━━\u001b[0m\u001b[37m\u001b[0m \u001b[1m0s\u001b[0m 0us/step\n",
            "Epoch 1/6\n",
            "\u001b[1m50/50\u001b[0m \u001b[32m━━━━━━━━━━━━━━━━━━━━\u001b[0m\u001b[37m\u001b[0m \u001b[1m27s\u001b[0m 264ms/step - accuracy: 0.8275 - loss: 0.5463 - val_accuracy: 0.9300 - val_loss: 0.2681\n",
            "Epoch 2/6\n",
            "\u001b[1m50/50\u001b[0m \u001b[32m━━━━━━━━━━━━━━━━━━━━\u001b[0m\u001b[37m\u001b[0m \u001b[1m25s\u001b[0m 100ms/step - accuracy: 0.9403 - loss: 0.1914 - val_accuracy: 0.9375 - val_loss: 0.2023\n",
            "Epoch 3/6\n",
            "\u001b[1m50/50\u001b[0m \u001b[32m━━━━━━━━━━━━━━━━━━━━\u001b[0m\u001b[37m\u001b[0m \u001b[1m5s\u001b[0m 91ms/step - accuracy: 0.9431 - loss: 0.1704 - val_accuracy: 0.9250 - val_loss: 0.2802\n",
            "Epoch 4/6\n",
            "\u001b[1m50/50\u001b[0m \u001b[32m━━━━━━━━━━━━━━━━━━━━\u001b[0m\u001b[37m\u001b[0m \u001b[1m5s\u001b[0m 99ms/step - accuracy: 0.9550 - loss: 0.1171 - val_accuracy: 0.9375 - val_loss: 0.2249\n",
            "Epoch 5/6\n",
            "\u001b[1m50/50\u001b[0m \u001b[32m━━━━━━━━━━━━━━━━━━━━\u001b[0m\u001b[37m\u001b[0m \u001b[1m5s\u001b[0m 95ms/step - accuracy: 0.9761 - loss: 0.0721 - val_accuracy: 0.9400 - val_loss: 0.2078\n",
            "Epoch 6/6\n",
            "\u001b[1m50/50\u001b[0m \u001b[32m━━━━━━━━━━━━━━━━━━━━\u001b[0m\u001b[37m\u001b[0m \u001b[1m5s\u001b[0m 101ms/step - accuracy: 0.9529 - loss: 0.1232 - val_accuracy: 0.9450 - val_loss: 0.1876\n",
            "Accuracy: 0.9449999928474426\n",
            "\u001b[1m13/13\u001b[0m \u001b[32m━━━━━━━━━━━━━━━━━━━━\u001b[0m\u001b[37m\u001b[0m \u001b[1m8s\u001b[0m 338ms/step\n",
            "Classification Report:\n",
            "               precision    recall  f1-score   support\n",
            "\n",
            "           0       0.95      0.94      0.95       203\n",
            "           1       0.94      0.95      0.94       197\n",
            "\n",
            "    accuracy                           0.94       400\n",
            "   macro avg       0.94      0.95      0.94       400\n",
            "weighted avg       0.95      0.94      0.95       400\n",
            "\n",
            "Accuracy: 0.945\n",
            "Cohen's Kappa: 0.8899917493812036\n",
            "Precision: 0.9450527513187831\n",
            "Recall: 0.945\n",
            "F1-Score: 0.9450027502750273\n",
            "AUROC: 0.9807206621489835\n",
            "Matthews Correlation Coefficient (MCC): 0.8900362589831106\n",
            "Specificity 0.9451252781875921\n",
            "Geometric Mean 0.945062637017925\n",
            "Type I Error 0.054937362982074966\n",
            "Type II Error 0.054874721812407934\n"
          ]
        }
      ]
    },
    {
      "cell_type": "code",
      "source": [
        "model_inceptionresnetv2 = build_transfer_learning_model(InceptionResNetV2)\n",
        "model_inceptionresnetv2.fit(X_train, y_train, validation_data=(X_test, y_test), epochs=6, batch_size=32)\n",
        "accuracy_inceptionresnetv2 = model_inceptionresnetv2.evaluate(X_test, y_test, verbose=0)[1]\n",
        "print(f\"Accuracy: {accuracy_inceptionresnetv2}\")\n",
        "evaluate(model_inceptionresnetv2, X_test, y_test,\"inceptionresnetv2_classification.csv\")"
      ],
      "metadata": {
        "colab": {
          "base_uri": "https://localhost:8080/"
        },
        "id": "httJBCt1Gq4w",
        "outputId": "d1574c63-d4e7-4696-9c7c-6cdb11ce7dfa"
      },
      "execution_count": null,
      "outputs": [
        {
          "output_type": "stream",
          "name": "stdout",
          "text": [
            "Downloading data from https://storage.googleapis.com/tensorflow/keras-applications/inception_resnet_v2/inception_resnet_v2_weights_tf_dim_ordering_tf_kernels_notop.h5\n",
            "\u001b[1m219055592/219055592\u001b[0m \u001b[32m━━━━━━━━━━━━━━━━━━━━\u001b[0m\u001b[37m\u001b[0m \u001b[1m1s\u001b[0m 0us/step\n",
            "Epoch 1/6\n",
            "\u001b[1m50/50\u001b[0m \u001b[32m━━━━━━━━━━━━━━━━━━━━\u001b[0m\u001b[37m\u001b[0m \u001b[1m67s\u001b[0m 723ms/step - accuracy: 0.7398 - loss: 0.8202 - val_accuracy: 0.8875 - val_loss: 0.3015\n",
            "Epoch 2/6\n",
            "\u001b[1m50/50\u001b[0m \u001b[32m━━━━━━━━━━━━━━━━━━━━\u001b[0m\u001b[37m\u001b[0m \u001b[1m43s\u001b[0m 197ms/step - accuracy: 0.9112 - loss: 0.2557 - val_accuracy: 0.9150 - val_loss: 0.2439\n",
            "Epoch 3/6\n",
            "\u001b[1m50/50\u001b[0m \u001b[32m━━━━━━━━━━━━━━━━━━━━\u001b[0m\u001b[37m\u001b[0m \u001b[1m10s\u001b[0m 200ms/step - accuracy: 0.9177 - loss: 0.2183 - val_accuracy: 0.9125 - val_loss: 0.2335\n",
            "Epoch 4/6\n",
            "\u001b[1m50/50\u001b[0m \u001b[32m━━━━━━━━━━━━━━━━━━━━\u001b[0m\u001b[37m\u001b[0m \u001b[1m10s\u001b[0m 200ms/step - accuracy: 0.9082 - loss: 0.2172 - val_accuracy: 0.9200 - val_loss: 0.2194\n",
            "Epoch 5/6\n",
            "\u001b[1m50/50\u001b[0m \u001b[32m━━━━━━━━━━━━━━━━━━━━\u001b[0m\u001b[37m\u001b[0m \u001b[1m10s\u001b[0m 207ms/step - accuracy: 0.9285 - loss: 0.1770 - val_accuracy: 0.9000 - val_loss: 0.2824\n",
            "Epoch 6/6\n",
            "\u001b[1m50/50\u001b[0m \u001b[32m━━━━━━━━━━━━━━━━━━━━\u001b[0m\u001b[37m\u001b[0m \u001b[1m20s\u001b[0m 205ms/step - accuracy: 0.9107 - loss: 0.2111 - val_accuracy: 0.8925 - val_loss: 0.2754\n",
            "Accuracy: 0.8924999833106995\n",
            "\u001b[1m13/13\u001b[0m \u001b[32m━━━━━━━━━━━━━━━━━━━━\u001b[0m\u001b[37m\u001b[0m \u001b[1m25s\u001b[0m 1s/step\n",
            "Classification Report:\n",
            "               precision    recall  f1-score   support\n",
            "\n",
            "           0       0.96      0.82      0.89       203\n",
            "           1       0.84      0.96      0.90       197\n",
            "\n",
            "    accuracy                           0.89       400\n",
            "   macro avg       0.90      0.89      0.89       400\n",
            "weighted avg       0.90      0.89      0.89       400\n",
            "\n",
            "Accuracy: 0.8925\n",
            "Cohen's Kappa: 0.7854184340535955\n",
            "Precision: 0.901132005899705\n",
            "Recall: 0.8925\n",
            "F1-Score: 0.8920503727950537\n",
            "AUROC: 0.9733440024005402\n",
            "Matthews Correlation Coefficient (MCC): 0.7937745222956208\n",
            "Specificity 0.8946271035983097\n",
            "Geometric Mean 0.8935629188599375\n",
            "Type I Error 0.10643708114006245\n",
            "Type II Error 0.10537289640169034\n"
          ]
        }
      ]
    },
    {
      "cell_type": "code",
      "source": [
        "model_densenet121 = build_transfer_learning_model(DenseNet121)\n",
        "model_densenet121.fit(X_train, y_train, validation_data=(X_test, y_test), epochs=6, batch_size=32)\n",
        "accuracy_densenet121 = model_densenet121.evaluate(X_test, y_test, verbose=0)[1]\n",
        "print(f\"Accuracy: {accuracy_densenet121}\")\n",
        "evaluate(model_densenet121, X_test, y_test,\"densenet121_classification.csv\")"
      ],
      "metadata": {
        "colab": {
          "base_uri": "https://localhost:8080/"
        },
        "id": "LPi_A468H-W-",
        "outputId": "328b349e-3714-4448-e67c-14e6aff6b7b7"
      },
      "execution_count": null,
      "outputs": [
        {
          "output_type": "stream",
          "name": "stdout",
          "text": [
            "Downloading data from https://storage.googleapis.com/tensorflow/keras-applications/densenet/densenet121_weights_tf_dim_ordering_tf_kernels_notop.h5\n",
            "\u001b[1m29084464/29084464\u001b[0m \u001b[32m━━━━━━━━━━━━━━━━━━━━\u001b[0m\u001b[37m\u001b[0m \u001b[1m0s\u001b[0m 0us/step\n",
            "Epoch 1/6\n",
            "\u001b[1m50/50\u001b[0m \u001b[32m━━━━━━━━━━━━━━━━━━━━\u001b[0m\u001b[37m\u001b[0m \u001b[1m58s\u001b[0m 583ms/step - accuracy: 0.8750 - loss: 0.3475 - val_accuracy: 0.9225 - val_loss: 0.2264\n",
            "Epoch 2/6\n",
            "\u001b[1m50/50\u001b[0m \u001b[32m━━━━━━━━━━━━━━━━━━━━\u001b[0m\u001b[37m\u001b[0m \u001b[1m43s\u001b[0m 97ms/step - accuracy: 0.9361 - loss: 0.1763 - val_accuracy: 0.9375 - val_loss: 0.2094\n",
            "Epoch 3/6\n",
            "\u001b[1m50/50\u001b[0m \u001b[32m━━━━━━━━━━━━━━━━━━━━\u001b[0m\u001b[37m\u001b[0m \u001b[1m5s\u001b[0m 96ms/step - accuracy: 0.9549 - loss: 0.1273 - val_accuracy: 0.9350 - val_loss: 0.1889\n",
            "Epoch 4/6\n",
            "\u001b[1m50/50\u001b[0m \u001b[32m━━━━━━━━━━━━━━━━━━━━\u001b[0m\u001b[37m\u001b[0m \u001b[1m5s\u001b[0m 101ms/step - accuracy: 0.9439 - loss: 0.1421 - val_accuracy: 0.9275 - val_loss: 0.2750\n",
            "Epoch 5/6\n",
            "\u001b[1m50/50\u001b[0m \u001b[32m━━━━━━━━━━━━━━━━━━━━\u001b[0m\u001b[37m\u001b[0m \u001b[1m5s\u001b[0m 98ms/step - accuracy: 0.9616 - loss: 0.1151 - val_accuracy: 0.9275 - val_loss: 0.2115\n",
            "Epoch 6/6\n",
            "\u001b[1m50/50\u001b[0m \u001b[32m━━━━━━━━━━━━━━━━━━━━\u001b[0m\u001b[37m\u001b[0m \u001b[1m5s\u001b[0m 95ms/step - accuracy: 0.9492 - loss: 0.1222 - val_accuracy: 0.9350 - val_loss: 0.2031\n",
            "Accuracy: 0.9350000023841858\n",
            "\u001b[1m13/13\u001b[0m \u001b[32m━━━━━━━━━━━━━━━━━━━━\u001b[0m\u001b[37m\u001b[0m \u001b[1m23s\u001b[0m 1s/step\n",
            "Classification Report:\n",
            "               precision    recall  f1-score   support\n",
            "\n",
            "           0       0.96      0.91      0.93       203\n",
            "           1       0.91      0.96      0.94       197\n",
            "\n",
            "    accuracy                           0.94       400\n",
            "   macro avg       0.94      0.94      0.93       400\n",
            "weighted avg       0.94      0.94      0.93       400\n",
            "\n",
            "Accuracy: 0.935\n",
            "Cohen's Kappa: 0.8700876908087041\n",
            "Precision: 0.9366277962874822\n",
            "Recall: 0.935\n",
            "F1-Score: 0.9349707434172688\n",
            "AUROC: 0.9808456902803131\n",
            "Matthews Correlation Coefficient (MCC): 0.8716559663805118\n",
            "Specificity 0.9358709459628416\n",
            "Geometric Mean 0.9354353716186153\n",
            "Type I Error 0.06456462838138466\n",
            "Type II Error 0.0641290540371584\n"
          ]
        }
      ]
    },
    {
      "cell_type": "code",
      "source": [
        "model_densenet169 = build_transfer_learning_model(DenseNet169)\n",
        "model_densenet169.fit(X_train, y_train, validation_data=(X_test, y_test), epochs=6, batch_size=32)\n",
        "accuracy_densenet169 = model_densenet169.evaluate(X_test, y_test, verbose=0)[1]\n",
        "print(f\"Accuracy: {accuracy_densenet169}\")\n",
        "evaluate(model_densenet169, X_test, y_test,\"densenet169_classification.csv\")"
      ],
      "metadata": {
        "colab": {
          "base_uri": "https://localhost:8080/"
        },
        "id": "G1MO53I2I1bM",
        "outputId": "c4b0c1e5-e860-4866-ad67-a44c325e1c55"
      },
      "execution_count": null,
      "outputs": [
        {
          "output_type": "stream",
          "name": "stdout",
          "text": [
            "Downloading data from https://storage.googleapis.com/tensorflow/keras-applications/densenet/densenet169_weights_tf_dim_ordering_tf_kernels_notop.h5\n",
            "\u001b[1m51877672/51877672\u001b[0m \u001b[32m━━━━━━━━━━━━━━━━━━━━\u001b[0m\u001b[37m\u001b[0m \u001b[1m0s\u001b[0m 0us/step\n",
            "Epoch 1/6\n",
            "\u001b[1m50/50\u001b[0m \u001b[32m━━━━━━━━━━━━━━━━━━━━\u001b[0m\u001b[37m\u001b[0m \u001b[1m87s\u001b[0m 1s/step - accuracy: 0.8291 - loss: 0.4405 - val_accuracy: 0.9375 - val_loss: 0.1984\n",
            "Epoch 2/6\n",
            "\u001b[1m50/50\u001b[0m \u001b[32m━━━━━━━━━━━━━━━━━━━━\u001b[0m\u001b[37m\u001b[0m \u001b[1m6s\u001b[0m 116ms/step - accuracy: 0.9380 - loss: 0.1784 - val_accuracy: 0.9225 - val_loss: 0.2336\n",
            "Epoch 3/6\n",
            "\u001b[1m50/50\u001b[0m \u001b[32m━━━━━━━━━━━━━━━━━━━━\u001b[0m\u001b[37m\u001b[0m \u001b[1m6s\u001b[0m 120ms/step - accuracy: 0.9501 - loss: 0.1449 - val_accuracy: 0.9400 - val_loss: 0.1861\n",
            "Epoch 4/6\n",
            "\u001b[1m50/50\u001b[0m \u001b[32m━━━━━━━━━━━━━━━━━━━━\u001b[0m\u001b[37m\u001b[0m \u001b[1m6s\u001b[0m 114ms/step - accuracy: 0.9566 - loss: 0.1397 - val_accuracy: 0.9125 - val_loss: 0.2513\n",
            "Epoch 5/6\n",
            "\u001b[1m50/50\u001b[0m \u001b[32m━━━━━━━━━━━━━━━━━━━━\u001b[0m\u001b[37m\u001b[0m \u001b[1m10s\u001b[0m 115ms/step - accuracy: 0.9612 - loss: 0.1106 - val_accuracy: 0.9450 - val_loss: 0.1843\n",
            "Epoch 6/6\n",
            "\u001b[1m50/50\u001b[0m \u001b[32m━━━━━━━━━━━━━━━━━━━━\u001b[0m\u001b[37m\u001b[0m \u001b[1m10s\u001b[0m 115ms/step - accuracy: 0.9744 - loss: 0.0833 - val_accuracy: 0.9350 - val_loss: 0.1776\n",
            "Accuracy: 0.9350000023841858\n",
            "\u001b[1m13/13\u001b[0m \u001b[32m━━━━━━━━━━━━━━━━━━━━\u001b[0m\u001b[37m\u001b[0m \u001b[1m33s\u001b[0m 1s/step\n",
            "Classification Report:\n",
            "               precision    recall  f1-score   support\n",
            "\n",
            "           0       0.92      0.95      0.94       203\n",
            "           1       0.95      0.92      0.93       197\n",
            "\n",
            "    accuracy                           0.94       400\n",
            "   macro avg       0.94      0.93      0.93       400\n",
            "weighted avg       0.94      0.94      0.93       400\n",
            "\n",
            "Accuracy: 0.935\n",
            "Cohen's Kappa: 0.8699121907287419\n",
            "Precision: 0.9353629850447155\n",
            "Recall: 0.935\n",
            "F1-Score: 0.9349707236512862\n",
            "AUROC: 0.9827461178765222\n",
            "Matthews Correlation Coefficient (MCC): 0.870304445371394\n",
            "Specificity 0.9345206421444824\n",
            "Geometric Mean 0.9347602903445841\n",
            "Type I Error 0.06523970965541592\n",
            "Type II Error 0.06547935785551762\n"
          ]
        }
      ]
    }
  ]
}