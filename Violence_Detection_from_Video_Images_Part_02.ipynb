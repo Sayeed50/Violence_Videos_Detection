{
  "nbformat": 4,
  "nbformat_minor": 0,
  "metadata": {
    "colab": {
      "provenance": [],
      "gpuType": "T4",
      "include_colab_link": true
    },
    "kernelspec": {
      "name": "python3",
      "display_name": "Python 3"
    },
    "language_info": {
      "name": "python"
    },
    "accelerator": "GPU"
  },
  "cells": [
    {
      "cell_type": "markdown",
      "metadata": {
        "id": "view-in-github",
        "colab_type": "text"
      },
      "source": [
        "<a href=\"https://colab.research.google.com/github/shahriariit/Violence_Videos_Detection/blob/main/Violence_Detection_from_Video_Images_Part_02.ipynb\" target=\"_parent\"><img src=\"https://colab.research.google.com/assets/colab-badge.svg\" alt=\"Open In Colab\"/></a>"
      ]
    },
    {
      "cell_type": "code",
      "execution_count": null,
      "metadata": {
        "colab": {
          "base_uri": "https://localhost:8080/"
        },
        "id": "C2b65RJ99bFs",
        "outputId": "b0ccf88f-e5c3-4571-fe7e-0f2c5a4f7ad1"
      },
      "outputs": [
        {
          "output_type": "stream",
          "name": "stdout",
          "text": [
            "Requirement already satisfied: opencv-python in /usr/local/lib/python3.11/dist-packages (4.11.0.86)\n",
            "Requirement already satisfied: numpy>=1.21.2 in /usr/local/lib/python3.11/dist-packages (from opencv-python) (2.0.2)\n",
            "Requirement already satisfied: tensorflow in /usr/local/lib/python3.11/dist-packages (2.18.0)\n",
            "Requirement already satisfied: absl-py>=1.0.0 in /usr/local/lib/python3.11/dist-packages (from tensorflow) (1.4.0)\n",
            "Requirement already satisfied: astunparse>=1.6.0 in /usr/local/lib/python3.11/dist-packages (from tensorflow) (1.6.3)\n",
            "Requirement already satisfied: flatbuffers>=24.3.25 in /usr/local/lib/python3.11/dist-packages (from tensorflow) (25.2.10)\n",
            "Requirement already satisfied: gast!=0.5.0,!=0.5.1,!=0.5.2,>=0.2.1 in /usr/local/lib/python3.11/dist-packages (from tensorflow) (0.6.0)\n",
            "Requirement already satisfied: google-pasta>=0.1.1 in /usr/local/lib/python3.11/dist-packages (from tensorflow) (0.2.0)\n",
            "Requirement already satisfied: libclang>=13.0.0 in /usr/local/lib/python3.11/dist-packages (from tensorflow) (18.1.1)\n",
            "Requirement already satisfied: opt-einsum>=2.3.2 in /usr/local/lib/python3.11/dist-packages (from tensorflow) (3.4.0)\n",
            "Requirement already satisfied: packaging in /usr/local/lib/python3.11/dist-packages (from tensorflow) (24.2)\n",
            "Requirement already satisfied: protobuf!=4.21.0,!=4.21.1,!=4.21.2,!=4.21.3,!=4.21.4,!=4.21.5,<6.0.0dev,>=3.20.3 in /usr/local/lib/python3.11/dist-packages (from tensorflow) (5.29.4)\n",
            "Requirement already satisfied: requests<3,>=2.21.0 in /usr/local/lib/python3.11/dist-packages (from tensorflow) (2.32.3)\n",
            "Requirement already satisfied: setuptools in /usr/local/lib/python3.11/dist-packages (from tensorflow) (75.2.0)\n",
            "Requirement already satisfied: six>=1.12.0 in /usr/local/lib/python3.11/dist-packages (from tensorflow) (1.17.0)\n",
            "Requirement already satisfied: termcolor>=1.1.0 in /usr/local/lib/python3.11/dist-packages (from tensorflow) (3.1.0)\n",
            "Requirement already satisfied: typing-extensions>=3.6.6 in /usr/local/lib/python3.11/dist-packages (from tensorflow) (4.13.2)\n",
            "Requirement already satisfied: wrapt>=1.11.0 in /usr/local/lib/python3.11/dist-packages (from tensorflow) (1.17.2)\n",
            "Requirement already satisfied: grpcio<2.0,>=1.24.3 in /usr/local/lib/python3.11/dist-packages (from tensorflow) (1.71.0)\n",
            "Requirement already satisfied: tensorboard<2.19,>=2.18 in /usr/local/lib/python3.11/dist-packages (from tensorflow) (2.18.0)\n",
            "Requirement already satisfied: keras>=3.5.0 in /usr/local/lib/python3.11/dist-packages (from tensorflow) (3.8.0)\n",
            "Requirement already satisfied: numpy<2.1.0,>=1.26.0 in /usr/local/lib/python3.11/dist-packages (from tensorflow) (2.0.2)\n",
            "Requirement already satisfied: h5py>=3.11.0 in /usr/local/lib/python3.11/dist-packages (from tensorflow) (3.13.0)\n",
            "Requirement already satisfied: ml-dtypes<0.5.0,>=0.4.0 in /usr/local/lib/python3.11/dist-packages (from tensorflow) (0.4.1)\n",
            "Requirement already satisfied: tensorflow-io-gcs-filesystem>=0.23.1 in /usr/local/lib/python3.11/dist-packages (from tensorflow) (0.37.1)\n",
            "Requirement already satisfied: wheel<1.0,>=0.23.0 in /usr/local/lib/python3.11/dist-packages (from astunparse>=1.6.0->tensorflow) (0.45.1)\n",
            "Requirement already satisfied: rich in /usr/local/lib/python3.11/dist-packages (from keras>=3.5.0->tensorflow) (13.9.4)\n",
            "Requirement already satisfied: namex in /usr/local/lib/python3.11/dist-packages (from keras>=3.5.0->tensorflow) (0.0.9)\n",
            "Requirement already satisfied: optree in /usr/local/lib/python3.11/dist-packages (from keras>=3.5.0->tensorflow) (0.15.0)\n",
            "Requirement already satisfied: charset-normalizer<4,>=2 in /usr/local/lib/python3.11/dist-packages (from requests<3,>=2.21.0->tensorflow) (3.4.2)\n",
            "Requirement already satisfied: idna<4,>=2.5 in /usr/local/lib/python3.11/dist-packages (from requests<3,>=2.21.0->tensorflow) (3.10)\n",
            "Requirement already satisfied: urllib3<3,>=1.21.1 in /usr/local/lib/python3.11/dist-packages (from requests<3,>=2.21.0->tensorflow) (2.4.0)\n",
            "Requirement already satisfied: certifi>=2017.4.17 in /usr/local/lib/python3.11/dist-packages (from requests<3,>=2.21.0->tensorflow) (2025.4.26)\n",
            "Requirement already satisfied: markdown>=2.6.8 in /usr/local/lib/python3.11/dist-packages (from tensorboard<2.19,>=2.18->tensorflow) (3.8)\n",
            "Requirement already satisfied: tensorboard-data-server<0.8.0,>=0.7.0 in /usr/local/lib/python3.11/dist-packages (from tensorboard<2.19,>=2.18->tensorflow) (0.7.2)\n",
            "Requirement already satisfied: werkzeug>=1.0.1 in /usr/local/lib/python3.11/dist-packages (from tensorboard<2.19,>=2.18->tensorflow) (3.1.3)\n",
            "Requirement already satisfied: MarkupSafe>=2.1.1 in /usr/local/lib/python3.11/dist-packages (from werkzeug>=1.0.1->tensorboard<2.19,>=2.18->tensorflow) (3.0.2)\n",
            "Requirement already satisfied: markdown-it-py>=2.2.0 in /usr/local/lib/python3.11/dist-packages (from rich->keras>=3.5.0->tensorflow) (3.0.0)\n",
            "Requirement already satisfied: pygments<3.0.0,>=2.13.0 in /usr/local/lib/python3.11/dist-packages (from rich->keras>=3.5.0->tensorflow) (2.19.1)\n",
            "Requirement already satisfied: mdurl~=0.1 in /usr/local/lib/python3.11/dist-packages (from markdown-it-py>=2.2.0->rich->keras>=3.5.0->tensorflow) (0.1.2)\n",
            "Requirement already satisfied: moviepy in /usr/local/lib/python3.11/dist-packages (1.0.3)\n",
            "Requirement already satisfied: decorator<5.0,>=4.0.2 in /usr/local/lib/python3.11/dist-packages (from moviepy) (4.4.2)\n",
            "Requirement already satisfied: tqdm<5.0,>=4.11.2 in /usr/local/lib/python3.11/dist-packages (from moviepy) (4.67.1)\n",
            "Requirement already satisfied: requests<3.0,>=2.8.1 in /usr/local/lib/python3.11/dist-packages (from moviepy) (2.32.3)\n",
            "Requirement already satisfied: proglog<=1.0.0 in /usr/local/lib/python3.11/dist-packages (from moviepy) (0.1.12)\n",
            "Requirement already satisfied: numpy>=1.17.3 in /usr/local/lib/python3.11/dist-packages (from moviepy) (2.0.2)\n",
            "Requirement already satisfied: imageio<3.0,>=2.5 in /usr/local/lib/python3.11/dist-packages (from moviepy) (2.37.0)\n",
            "Requirement already satisfied: imageio-ffmpeg>=0.2.0 in /usr/local/lib/python3.11/dist-packages (from moviepy) (0.6.0)\n",
            "Requirement already satisfied: pillow>=8.3.2 in /usr/local/lib/python3.11/dist-packages (from imageio<3.0,>=2.5->moviepy) (11.2.1)\n",
            "Requirement already satisfied: charset-normalizer<4,>=2 in /usr/local/lib/python3.11/dist-packages (from requests<3.0,>=2.8.1->moviepy) (3.4.2)\n",
            "Requirement already satisfied: idna<4,>=2.5 in /usr/local/lib/python3.11/dist-packages (from requests<3.0,>=2.8.1->moviepy) (3.10)\n",
            "Requirement already satisfied: urllib3<3,>=1.21.1 in /usr/local/lib/python3.11/dist-packages (from requests<3.0,>=2.8.1->moviepy) (2.4.0)\n",
            "Requirement already satisfied: certifi>=2017.4.17 in /usr/local/lib/python3.11/dist-packages (from requests<3.0,>=2.8.1->moviepy) (2025.4.26)\n"
          ]
        }
      ],
      "source": [
        "!pip install opencv-python\n",
        "!pip install tensorflow\n",
        "!pip install moviepy"
      ]
    },
    {
      "cell_type": "code",
      "source": [
        "from google.colab import drive\n",
        "import cv2\n",
        "import os\n",
        "import math\n",
        "import matplotlib.pyplot as plt\n",
        "import numpy as np\n",
        "import csv\n",
        "from tensorflow.keras.preprocessing import image\n",
        "from tensorflow.keras.utils import to_categorical\n",
        "from tensorflow.keras.preprocessing.image import img_to_array, load_img\n",
        "from sklearn.utils import shuffle\n",
        "from tensorflow.keras.models import Sequential\n",
        "from tensorflow.keras.layers import Conv2D, MaxPooling2D, Flatten, Dense, Dropout\n",
        "from sklearn.model_selection import train_test_split\n",
        "from tensorflow.keras.layers import LSTM\n",
        "from tensorflow.keras.applications import MobileNetV3Large\n",
        "from tensorflow.keras.applications import VGG16\n",
        "from tensorflow.keras.applications import VGG19\n",
        "from tensorflow.keras.applications import ResNet50V2\n",
        "from tensorflow.keras.applications import InceptionV3\n",
        "from tensorflow.keras.applications import InceptionResNetV2\n",
        "from tensorflow.keras.applications import DenseNet121\n",
        "from tensorflow.keras.applications import DenseNet169\n",
        "from tensorflow.keras.applications import DenseNet201\n",
        "from tensorflow.keras.applications import Xception\n",
        "from tensorflow.keras.models import Model\n",
        "from tensorflow.keras.applications import Xception\n",
        "from tensorflow.keras.applications import InceptionV3\n",
        "from tensorflow.keras.layers import BatchNormalization\n",
        "from tensorflow.keras.layers import GlobalAveragePooling2D\n",
        "from tensorflow.keras.optimizers import Adam\n",
        "from sklearn.metrics import classification_report, accuracy_score, cohen_kappa_score, precision_score, recall_score, f1_score, roc_auc_score, matthews_corrcoef\n",
        "from imblearn.metrics import geometric_mean_score\n",
        "from imblearn.metrics import sensitivity_score\n",
        "from imblearn.metrics import specificity_score\n"
      ],
      "metadata": {
        "id": "4Qn8x-K_-lbX"
      },
      "execution_count": null,
      "outputs": []
    },
    {
      "cell_type": "code",
      "source": [
        "drive.mount('/content/drive')\n",
        "dataset_path = '/content/drive/MyDrive/VDataset'"
      ],
      "metadata": {
        "colab": {
          "base_uri": "https://localhost:8080/"
        },
        "id": "Oob_EB2I-vpr",
        "outputId": "c37ef09a-dc15-4320-9142-0b0bd10b1f39"
      },
      "execution_count": null,
      "outputs": [
        {
          "output_type": "stream",
          "name": "stdout",
          "text": [
            "Mounted at /content/drive\n"
          ]
        }
      ]
    },
    {
      "source": [
        "def load_images_from_folder(folder, label):\n",
        "    \"\"\"Load images from a folder, preprocess, and assign labels.\"\"\"\n",
        "    images = []\n",
        "    labels = []\n",
        "    for filename in os.listdir(folder):\n",
        "        img_path = os.path.join(folder, filename)\n",
        "        # Load and preprocess image\n",
        "        img = load_img(img_path, target_size=(224, 224))  # Resize image to 224x224\n",
        "        img = img_to_array(img) / 255.0  # Normalize to [0, 1]\n",
        "        images.append(img)\n",
        "        labels.append(label)\n",
        "    return np.array(images), np.array(labels)\n",
        "\n",
        "\n",
        "def build_transfer_learning_model(base_model_fn, input_shape=(224, 224, 3), learning_rate=0.001):\n",
        "    \"\"\"\n",
        "    Builds a binary classification model using a specified base model function.\n",
        "\n",
        "    Parameters:\n",
        "    - base_model_fn: a function from keras.applications (e.g., VGG16, ResNet50V2)\n",
        "    - input_shape: input shape of the images\n",
        "    - learning_rate: learning rate for the optimizer\n",
        "\n",
        "    Returns:\n",
        "    - Compiled Keras Model\n",
        "    \"\"\"\n",
        "    # Load the base model without the top classification layer\n",
        "    base_model = base_model_fn(weights='imagenet', include_top=False, input_shape=input_shape)\n",
        "\n",
        "    # Freeze base model layers\n",
        "    for layer in base_model.layers:\n",
        "        layer.trainable = False\n",
        "\n",
        "    # Add custom classification head\n",
        "    x = base_model.output\n",
        "    x = GlobalAveragePooling2D()(x)\n",
        "    x = Dense(1024, activation='relu')(x)\n",
        "    x = Dropout(0.5)(x)\n",
        "    predictions = Dense(1, activation='sigmoid')(x)\n",
        "\n",
        "    # Final model\n",
        "    model = Model(inputs=base_model.input, outputs=predictions)\n",
        "\n",
        "    # Compile model\n",
        "    model.compile(optimizer=Adam(learning_rate=learning_rate),\n",
        "                  loss='binary_crossentropy',\n",
        "                  metrics=['accuracy'])\n",
        "\n",
        "    return model\n",
        "\n",
        "# Corrected indentation for the evaluate function and its content\n",
        "def evaluate(base_model, X_test, y_test, output_file=\"classification_metrics.csv\"):\n",
        "    # Predict probabilities\n",
        "\n",
        "    with open(output_file, mode='w', newline='') as file:\n",
        "        writer = csv.writer(file)\n",
        "\n",
        "        # Write the header row\n",
        "        writer.writerow([\"Accuracy\", \"Cohen-Kappa\", \"Precision\", \"Recall\", \"F1-Score\", \"AUROC\", \"MCC\", \"Specificity\", \"G-Mean\", \"Type I Error\",\"Type II Error\"])\n",
        "\n",
        "        y_probs = base_model.predict(X_test)\n",
        "        y_pred = (y_probs > 0.5).astype(int).flatten()\n",
        "\n",
        "        # Classification Report (includes precision, recall, F1-score)\n",
        "        print(\"Classification Report:\\n\", classification_report(y_test, y_pred))\n",
        "\n",
        "        # Individual Metrics\n",
        "        accuracy = accuracy_score(y_test, y_pred)\n",
        "        cohen_kappa = cohen_kappa_score(y_test, y_pred)\n",
        "        precision = precision_score(y_test, y_pred, average='weighted')\n",
        "        recall = recall_score(y_test, y_pred, average='weighted')\n",
        "        f1 = f1_score(y_test, y_pred, average='weighted')\n",
        "        auroc = roc_auc_score(y_test, y_probs, average='weighted')\n",
        "        mcc = matthews_corrcoef(y_test, y_pred)\n",
        "        specificity = specificity_score(y_test, y_pred, average='weighted')\n",
        "        g_mean = geometric_mean_score(y_test, y_pred, average='weighted')\n",
        "        type_i_error = 1 - g_mean\n",
        "        type_ii_error = 1 - specificity\n",
        "\n",
        "\n",
        "        writer.writerow([accuracy, cohen_kappa, precision, recall, f1, auroc, mcc, specificity, g_mean, type_i_error, type_ii_error])\n",
        "\n",
        "        # Display results\n",
        "        print(\"Accuracy:\", accuracy)\n",
        "        print(\"Cohen's Kappa:\", cohen_kappa)\n",
        "        print(\"Precision:\", precision)\n",
        "        print(\"Recall:\", recall)\n",
        "        print(\"F1-Score:\", f1)\n",
        "        print(\"AUROC:\", auroc)\n",
        "        print(\"Matthews Correlation Coefficient (MCC):\", mcc)\n",
        "        print(\"Specificity\",specificity)\n",
        "        print(\"Geometric Mean\",g_mean)\n",
        "        print(\"Type I Error\",type_i_error)\n",
        "        print(\"Type II Error\",type_ii_error)"
      ],
      "cell_type": "code",
      "metadata": {
        "id": "MXB0Plo2B7KQ"
      },
      "execution_count": null,
      "outputs": []
    },
    {
      "cell_type": "code",
      "source": [
        "# Paths to the frames\n",
        "nonviolence_folder = '/content/drive/MyDrive/VDataset/Non_Violence'\n",
        "violence_folder = '/content/drive/MyDrive/VDataset/Violence'"
      ],
      "metadata": {
        "id": "UDo6thHZ_qd4"
      },
      "execution_count": null,
      "outputs": []
    },
    {
      "cell_type": "code",
      "source": [
        "# Load images and labels for each class\n",
        "violence_images, violence_labels = load_images_from_folder(violence_folder, 1)  # Label 1 for Violence\n",
        "nonviolence_images, nonviolence_labels = load_images_from_folder(nonviolence_folder, 0)  # Label 0 for Non-Violence\n",
        "\n",
        "# Combine the datasets\n",
        "X = np.concatenate((violence_images, nonviolence_images), axis=0)\n",
        "y = np.concatenate((violence_labels, nonviolence_labels), axis=0)\n",
        "\n",
        "# Shuffle the dataset\n",
        "X, y = shuffle(X, y, random_state=42)\n",
        "\n",
        "print(f\"Dataset loaded and shuffled.\")\n",
        "print(f\"Total samples: {len(y)}\")\n",
        "print(f\"Shape of X: {X.shape}, Shape of y: {y.shape}\")"
      ],
      "metadata": {
        "colab": {
          "base_uri": "https://localhost:8080/"
        },
        "id": "377RzlxDAARi",
        "outputId": "45124936-bd3b-464c-b270-00854a9f096f"
      },
      "execution_count": null,
      "outputs": [
        {
          "output_type": "stream",
          "name": "stdout",
          "text": [
            "Dataset loaded and shuffled.\n",
            "Total samples: 2474\n",
            "Shape of X: (2474, 224, 224, 3), Shape of y: (2474,)\n"
          ]
        }
      ]
    },
    {
      "cell_type": "code",
      "source": [
        "# Split dataset into training and testin\n",
        "X_train, X_test, y_train, y_test = train_test_split(X, y, test_size=0.2, random_state=42)"
      ],
      "metadata": {
        "id": "oPsESuudAh_w"
      },
      "execution_count": null,
      "outputs": []
    },
    {
      "cell_type": "code",
      "source": [
        "model_densenet169 = build_transfer_learning_model(DenseNet169)\n",
        "model_densenet169.fit(X_train, y_train, validation_data=(X_test, y_test), epochs=6, batch_size=32)\n",
        "accuracy_densenet169 = model_densenet169.evaluate(X_test, y_test, verbose=0)[1]\n",
        "print(f\"Accuracy: {accuracy_densenet169}\")\n",
        "evaluate(model_densenet169, X_test, y_test,\"densenet169_classification.csv\")"
      ],
      "metadata": {
        "colab": {
          "base_uri": "https://localhost:8080/"
        },
        "id": "6P0HkLEH6yoV",
        "outputId": "c9760582-ad14-4383-844b-b324d906a7a9"
      },
      "execution_count": null,
      "outputs": [
        {
          "output_type": "stream",
          "name": "stdout",
          "text": [
            "Downloading data from https://storage.googleapis.com/tensorflow/keras-applications/densenet/densenet169_weights_tf_dim_ordering_tf_kernels_notop.h5\n",
            "\u001b[1m51877672/51877672\u001b[0m \u001b[32m━━━━━━━━━━━━━━━━━━━━\u001b[0m\u001b[37m\u001b[0m \u001b[1m3s\u001b[0m 0us/step\n",
            "Epoch 1/6\n",
            "\u001b[1m62/62\u001b[0m \u001b[32m━━━━━━━━━━━━━━━━━━━━\u001b[0m\u001b[37m\u001b[0m \u001b[1m116s\u001b[0m 1s/step - accuracy: 0.7585 - loss: 0.6947 - val_accuracy: 0.9455 - val_loss: 0.1205\n",
            "Epoch 2/6\n",
            "\u001b[1m62/62\u001b[0m \u001b[32m━━━━━━━━━━━━━━━━━━━━\u001b[0m\u001b[37m\u001b[0m \u001b[1m54s\u001b[0m 135ms/step - accuracy: 0.9642 - loss: 0.1161 - val_accuracy: 0.9596 - val_loss: 0.0900\n",
            "Epoch 3/6\n",
            "\u001b[1m62/62\u001b[0m \u001b[32m━━━━━━━━━━━━━━━━━━━━\u001b[0m\u001b[37m\u001b[0m \u001b[1m9s\u001b[0m 119ms/step - accuracy: 0.9657 - loss: 0.0899 - val_accuracy: 0.9434 - val_loss: 0.1119\n",
            "Epoch 4/6\n",
            "\u001b[1m62/62\u001b[0m \u001b[32m━━━━━━━━━━━━━━━━━━━━\u001b[0m\u001b[37m\u001b[0m \u001b[1m10s\u001b[0m 120ms/step - accuracy: 0.9745 - loss: 0.0575 - val_accuracy: 0.9636 - val_loss: 0.0862\n",
            "Epoch 5/6\n",
            "\u001b[1m62/62\u001b[0m \u001b[32m━━━━━━━━━━━━━━━━━━━━\u001b[0m\u001b[37m\u001b[0m \u001b[1m11s\u001b[0m 137ms/step - accuracy: 0.9800 - loss: 0.0561 - val_accuracy: 0.9636 - val_loss: 0.0759\n",
            "Epoch 6/6\n",
            "\u001b[1m62/62\u001b[0m \u001b[32m━━━━━━━━━━━━━━━━━━━━\u001b[0m\u001b[37m\u001b[0m \u001b[1m9s\u001b[0m 118ms/step - accuracy: 0.9865 - loss: 0.0379 - val_accuracy: 0.9737 - val_loss: 0.0667\n",
            "Accuracy: 0.973737359046936\n",
            "\u001b[1m16/16\u001b[0m \u001b[32m━━━━━━━━━━━━━━━━━━━━\u001b[0m\u001b[37m\u001b[0m \u001b[1m35s\u001b[0m 1s/step\n",
            "Classification Report:\n",
            "               precision    recall  f1-score   support\n",
            "\n",
            "           0       0.99      0.96      0.97       236\n",
            "           1       0.96      0.99      0.98       259\n",
            "\n",
            "    accuracy                           0.97       495\n",
            "   macro avg       0.97      0.97      0.97       495\n",
            "weighted avg       0.97      0.97      0.97       495\n",
            "\n",
            "Accuracy: 0.9737373737373738\n",
            "Cohen's Kappa: 0.9472916854374339\n",
            "Precision: 0.9740837471474105\n",
            "Recall: 0.9737373737373738\n",
            "F1-Score: 0.9737147822309112\n",
            "AUROC: 0.99694064524573\n",
            "Matthews Correlation Coefficient (MCC): 0.9476734396427035\n",
            "Specificity 0.9723067333236826\n",
            "Geometric Mean 0.9730217905955486\n",
            "Type I Error 0.026978209404451392\n",
            "Type II Error 0.02769326667631744\n"
          ]
        }
      ]
    },
    {
      "cell_type": "code",
      "source": [
        "model_densenet201 = build_transfer_learning_model(DenseNet201)\n",
        "model_densenet201.fit(X_train, y_train, validation_data=(X_test, y_test), epochs=6, batch_size=32)\n",
        "accuracy_densenet201 = model_densenet201.evaluate(X_test, y_test, verbose=0)[1]\n",
        "print(f\"Accuracy: {accuracy_densenet201}\")\n",
        "evaluate(model_densenet201, X_test, y_test,\"densenet201_classification.csv\")"
      ],
      "metadata": {
        "id": "xlPp3BkB62G1",
        "colab": {
          "base_uri": "https://localhost:8080/"
        },
        "outputId": "331e7596-c03a-4066-ab76-aca4bf1d8f8e"
      },
      "execution_count": null,
      "outputs": [
        {
          "output_type": "stream",
          "name": "stdout",
          "text": [
            "Downloading data from https://storage.googleapis.com/tensorflow/keras-applications/densenet/densenet201_weights_tf_dim_ordering_tf_kernels_notop.h5\n",
            "\u001b[1m74836368/74836368\u001b[0m \u001b[32m━━━━━━━━━━━━━━━━━━━━\u001b[0m\u001b[37m\u001b[0m \u001b[1m4s\u001b[0m 0us/step\n",
            "Epoch 1/6\n",
            "\u001b[1m62/62\u001b[0m \u001b[32m━━━━━━━━━━━━━━━━━━━━\u001b[0m\u001b[37m\u001b[0m \u001b[1m118s\u001b[0m 1s/step - accuracy: 0.7752 - loss: 0.7001 - val_accuracy: 0.9475 - val_loss: 0.1233\n",
            "Epoch 2/6\n",
            "\u001b[1m62/62\u001b[0m \u001b[32m━━━━━━━━━━━━━━━━━━━━\u001b[0m\u001b[37m\u001b[0m \u001b[1m56s\u001b[0m 149ms/step - accuracy: 0.9557 - loss: 0.1165 - val_accuracy: 0.9636 - val_loss: 0.0931\n",
            "Epoch 3/6\n",
            "\u001b[1m62/62\u001b[0m \u001b[32m━━━━━━━━━━━━━━━━━━━━\u001b[0m\u001b[37m\u001b[0m \u001b[1m10s\u001b[0m 145ms/step - accuracy: 0.9701 - loss: 0.0753 - val_accuracy: 0.9677 - val_loss: 0.0791\n",
            "Epoch 4/6\n",
            "\u001b[1m62/62\u001b[0m \u001b[32m━━━━━━━━━━━━━━━━━━━━\u001b[0m\u001b[37m\u001b[0m \u001b[1m11s\u001b[0m 161ms/step - accuracy: 0.9871 - loss: 0.0401 - val_accuracy: 0.9636 - val_loss: 0.0939\n",
            "Epoch 5/6\n",
            "\u001b[1m62/62\u001b[0m \u001b[32m━━━━━━━━━━━━━━━━━━━━\u001b[0m\u001b[37m\u001b[0m \u001b[1m9s\u001b[0m 148ms/step - accuracy: 0.9897 - loss: 0.0383 - val_accuracy: 0.9737 - val_loss: 0.0809\n",
            "Epoch 6/6\n",
            "\u001b[1m62/62\u001b[0m \u001b[32m━━━━━━━━━━━━━━━━━━━━\u001b[0m\u001b[37m\u001b[0m \u001b[1m11s\u001b[0m 161ms/step - accuracy: 0.9933 - loss: 0.0214 - val_accuracy: 0.9798 - val_loss: 0.0806\n",
            "Accuracy: 0.9797979593276978\n",
            "\u001b[1m16/16\u001b[0m \u001b[32m━━━━━━━━━━━━━━━━━━━━\u001b[0m\u001b[37m\u001b[0m \u001b[1m44s\u001b[0m 2s/step\n",
            "Classification Report:\n",
            "               precision    recall  f1-score   support\n",
            "\n",
            "           0       0.98      0.97      0.98       236\n",
            "           1       0.98      0.98      0.98       259\n",
            "\n",
            "    accuracy                           0.98       495\n",
            "   macro avg       0.98      0.98      0.98       495\n",
            "weighted avg       0.98      0.98      0.98       495\n",
            "\n",
            "Accuracy: 0.9797979797979798\n",
            "Cohen's Kappa: 0.9594932979820298\n",
            "Precision: 0.9798217959137498\n",
            "Recall: 0.9797979797979798\n",
            "F1-Score: 0.9797938468151234\n",
            "AUROC: 0.9965643609711408\n",
            "Matthews Correlation Coefficient (MCC): 0.9595247861279832\n",
            "Specificity 0.9793342759444454\n",
            "Geometric Mean 0.979566100432883\n",
            "Type I Error 0.020433899567117053\n",
            "Type II Error 0.020665724055554557\n"
          ]
        }
      ]
    },
    {
      "cell_type": "code",
      "source": [
        "model_inceptionv3 = build_transfer_learning_model(InceptionV3)\n",
        "model_inceptionv3.fit(X_train, y_train, validation_data=(X_test, y_test), epochs=6, batch_size=32)\n",
        "accuracy_inceptionv3 = model_inceptionv3.evaluate(X_test, y_test, verbose=0)[1]\n",
        "print(f\"Accuracy: {accuracy_inceptionv3}\")\n",
        "evaluate(model_inceptionv3, X_test, y_test,\"inceptionv3_classification.csv\")"
      ],
      "metadata": {
        "id": "Gqczr6Iv6561",
        "colab": {
          "base_uri": "https://localhost:8080/"
        },
        "outputId": "079c88c0-ba9a-4438-90d9-82b6ec9f9df6"
      },
      "execution_count": null,
      "outputs": [
        {
          "output_type": "stream",
          "name": "stdout",
          "text": [
            "Downloading data from https://storage.googleapis.com/tensorflow/keras-applications/inception_v3/inception_v3_weights_tf_dim_ordering_tf_kernels_notop.h5\n",
            "\u001b[1m87910968/87910968\u001b[0m \u001b[32m━━━━━━━━━━━━━━━━━━━━\u001b[0m\u001b[37m\u001b[0m \u001b[1m7s\u001b[0m 0us/step\n",
            "Epoch 1/6\n",
            "\u001b[1m62/62\u001b[0m \u001b[32m━━━━━━━━━━━━━━━━━━━━\u001b[0m\u001b[37m\u001b[0m \u001b[1m42s\u001b[0m 420ms/step - accuracy: 0.7214 - loss: 0.8518 - val_accuracy: 0.9172 - val_loss: 0.2131\n",
            "Epoch 2/6\n",
            "\u001b[1m62/62\u001b[0m \u001b[32m━━━━━━━━━━━━━━━━━━━━\u001b[0m\u001b[37m\u001b[0m \u001b[1m11s\u001b[0m 82ms/step - accuracy: 0.9139 - loss: 0.2043 - val_accuracy: 0.9212 - val_loss: 0.1669\n",
            "Epoch 3/6\n",
            "\u001b[1m62/62\u001b[0m \u001b[32m━━━━━━━━━━━━━━━━━━━━\u001b[0m\u001b[37m\u001b[0m \u001b[1m10s\u001b[0m 86ms/step - accuracy: 0.9521 - loss: 0.1277 - val_accuracy: 0.9152 - val_loss: 0.2108\n",
            "Epoch 4/6\n",
            "\u001b[1m62/62\u001b[0m \u001b[32m━━━━━━━━━━━━━━━━━━━━\u001b[0m\u001b[37m\u001b[0m \u001b[1m5s\u001b[0m 80ms/step - accuracy: 0.9537 - loss: 0.1199 - val_accuracy: 0.9212 - val_loss: 0.1614\n",
            "Epoch 5/6\n",
            "\u001b[1m62/62\u001b[0m \u001b[32m━━━━━━━━━━━━━━━━━━━━\u001b[0m\u001b[37m\u001b[0m \u001b[1m5s\u001b[0m 84ms/step - accuracy: 0.9660 - loss: 0.0978 - val_accuracy: 0.9374 - val_loss: 0.1499\n",
            "Epoch 6/6\n",
            "\u001b[1m62/62\u001b[0m \u001b[32m━━━━━━━━━━━━━━━━━━━━\u001b[0m\u001b[37m\u001b[0m \u001b[1m10s\u001b[0m 85ms/step - accuracy: 0.9721 - loss: 0.0776 - val_accuracy: 0.9455 - val_loss: 0.1230\n",
            "Accuracy: 0.9454545378684998\n",
            "\u001b[1m16/16\u001b[0m \u001b[32m━━━━━━━━━━━━━━━━━━━━\u001b[0m\u001b[37m\u001b[0m \u001b[1m13s\u001b[0m 485ms/step\n",
            "Classification Report:\n",
            "               precision    recall  f1-score   support\n",
            "\n",
            "           0       0.93      0.95      0.94       236\n",
            "           1       0.96      0.94      0.95       259\n",
            "\n",
            "    accuracy                           0.95       495\n",
            "   macro avg       0.95      0.95      0.95       495\n",
            "weighted avg       0.95      0.95      0.95       495\n",
            "\n",
            "Accuracy: 0.9454545454545454\n",
            "Cohen's Kappa: 0.890775806412069\n",
            "Precision: 0.9456877066149455\n",
            "Recall: 0.9454545454545454\n",
            "F1-Score: 0.9454746070436238\n",
            "AUROC: 0.9912145801976311\n",
            "Matthews Correlation Coefficient (MCC): 0.8909580792163917\n",
            "Specificity 0.9461592232778673\n",
            "Geometric Mean 0.9458068187382673\n",
            "Type I Error 0.05419318126173267\n",
            "Type II Error 0.05384077672213272\n"
          ]
        }
      ]
    }
  ]
}